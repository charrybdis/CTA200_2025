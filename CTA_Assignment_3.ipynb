{
 "cells": [
  {
   "cell_type": "code",
   "execution_count": null,
   "id": "e3a05169",
   "metadata": {},
   "outputs": [],
   "source": [
    "import numpy as np\n",
    "import matplotlib as mpl\n",
    "import cmath\n",
    "\n",
    "\n",
    "# Question 1 #\n",
    "\n",
    "def complex_iterate(R_c, I_c, max_iter=20, tol=1e6):\n",
    "    '''Iterates over the function z_{n+1} = z^2 + c, where c is a constant\n",
    "    \n",
    "    Parameters: \n",
    "    R_c --- Real component of the constant c\n",
    "    I_c --- Imaginary component of the constant c \n",
    "    max_iter ---- Maximum number of iterations\n",
    "    tol --- Maximum difference between successive iterations\n",
    "    \n",
    "    Returns: \n",
    "    i --- Iteration number where the difference between successive iterations exceeds tol \n",
    "    None --- Returns None if the difference between iterations does not exceed tol \n",
    "    '''\n",
    "    \n",
    "    z = 0\n",
    "    i = 0\n",
    "    iteration_arr = np.empty(max_iter, dtype=np.complex_)\n",
    "    c = complex(R_c, I_c)\n",
    "\n",
    "    while i < max_iter:\n",
    "        znew = (z ** 2) + c\n",
    "        diff = abs(znew - z)\n",
    "         \n",
    "        if diff > tol: \n",
    "            return i \n",
    "        else:\n",
    "            z = znew\n",
    "            i += 1\n",
    "    return None"
   ]
  },
  {
   "cell_type": "code",
   "execution_count": null,
   "id": "7885ea6d",
   "metadata": {},
   "outputs": [],
   "source": [
    "num = 100\n",
    "\n",
    "x = np.linspace(-2, 2, num)\n",
    "y = np.linspace(-2, 2, num)\n",
    "\n",
    "z = np.empty((num, num))\n",
    "\n",
    "for xindex, xval in np.ndenumerate(x): \n",
    "    for yindex, yval in np.ndenumerate(y): \n",
    "        z[xindex, yindex] = complex_iterate(xval, yval)"
   ]
  },
  {
   "cell_type": "code",
   "execution_count": null,
   "id": "0e1f5af1",
   "metadata": {},
   "outputs": [],
   "source": [
    "import matplotlib.pyplot as plt\n",
    "\n",
    "X,Y = np.meshgrid(x,y,indexing='ij')\n",
    "plt.figure(dpi=100)\n",
    "plt.contourf(X, Y, z, levels=50)\n",
    "plt.title('Iteration number of divergence')\n",
    "plt.xlabel(\"Re(c)\")\n",
    "plt.ylabel(\"Im(c)\")\n",
    "plt.colorbar(label=\"Number of iterations\")\n",
    "plt.show()"
   ]
  },
  {
   "cell_type": "code",
   "execution_count": null,
   "id": "c48d9868",
   "metadata": {},
   "outputs": [],
   "source": [
    "X,Y = np.meshgrid(x,y,indexing='ij')\n",
    "z[z > 0] = 10 # Replacing iteration number associated with diverging values of c with fixed number  \n",
    "\n",
    "plt.figure(dpi=100)\n",
    "plt.contourf(X, Y, z, levels=50)\n",
    "plt.title('Diverging values')\n",
    "plt.xlabel(\"Re(c)\")\n",
    "plt.ylabel(\"Im(c)\")\n",
    "plt.show()"
   ]
  },
  {
   "cell_type": "code",
   "execution_count": null,
   "id": "454dcb54",
   "metadata": {},
   "outputs": [],
   "source": [
    "## Question 2 ##\n",
    "\n",
    "from scipy.integrate import solve_ivp\n",
    "\n",
    "def FW(t, w, sigma, r, b):\n",
    "    \"\"\"Right hand side of Lorenz' equations\n",
    "    \n",
    "    Parameters: \n",
    "    t --- Independent variable (time)\n",
    "    w --- Solution to coupled ODE (1 x 3 array)\n",
    "    sigma --- Prandtl number\n",
    "    r --- Rayleigh number\n",
    "    b --- Dimensionless length scale \n",
    "    \n",
    "    Returns: \n",
    "    Array with RHS of \\dot{W} \n",
    "    \"\"\"\n",
    "    x, y, z = w\n",
    "    return[-sigma * (x - y), (r * x) - y - (x * z), (-b * z) + (x * y)]\n",
    "\n",
    "W0 = [0, 1, 0]\n",
    "\n",
    "sol = solve_ivp(FW, [0, 60], W0, args=(10, 28, 8/3),\n",
    "                dense_output=True)"
   ]
  },
  {
   "cell_type": "code",
   "execution_count": null,
   "id": "797083c0",
   "metadata": {},
   "outputs": [],
   "source": [
    "plt.figure(dpi=100)\n",
    "plt.plot(sol.t, sol.y[1,:])\n",
    "plt.title('Reproduction of Lorenz Figure 1')\n",
    "plt.xlabel(\"Time\")\n",
    "plt.ylabel(\"Y component of solution W\")\n",
    "plt.show()"
   ]
  },
  {
   "cell_type": "code",
   "execution_count": null,
   "id": "8728e08f",
   "metadata": {},
   "outputs": [],
   "source": [
    "t = np.linspace(14, 19, 1000) # limit time interval, increase iterations\n",
    "W = sol.sol(t)"
   ]
  },
  {
   "cell_type": "code",
   "execution_count": null,
   "id": "0020343a",
   "metadata": {},
   "outputs": [],
   "source": [
    "plt.figure(dpi=100)\n",
    "plt.plot(W[1], W[2])\n",
    "plt.title('Reproduction of Lorenz Figure 2 A')\n",
    "plt.xlabel(\"Y component of W\")\n",
    "plt.ylabel(\"Z component of W\")\n",
    "plt.show()"
   ]
  },
  {
   "cell_type": "code",
   "execution_count": null,
   "id": "45bea21f",
   "metadata": {},
   "outputs": [],
   "source": [
    "plt.figure(dpi=100)\n",
    "plt.plot(W[1], W[0])\n",
    "plt.title('Reproduction of Lorenz Figure 2 B')\n",
    "plt.xlabel(\"Y component of W\")\n",
    "plt.ylabel(\"X component of W\")\n",
    "plt.show()"
   ]
  },
  {
   "cell_type": "code",
   "execution_count": null,
   "id": "28b4a382",
   "metadata": {},
   "outputs": [],
   "source": [
    "# Altering initial parameters\n",
    "\n",
    "W0_prime = [sum(x) for x in zip(W0, [0, 1e-8, 0])]\n",
    "\n",
    "sol2 = solve_ivp(FW, [0, 60], W0_prime, args=(10, 28, 8/3),\n",
    "                dense_output=True)"
   ]
  },
  {
   "cell_type": "code",
   "execution_count": null,
   "id": "ea7f16ad",
   "metadata": {},
   "outputs": [],
   "source": [
    "diff_W = sol.y - sol2.y\n",
    "\n",
    "norm_diff_W = [np.linalg.norm([diff_W[0][i], diff_W[1][i], diff_W[2][i]]) for i in range(len(sol.y[0]))]"
   ]
  },
  {
   "cell_type": "code",
   "execution_count": null,
   "id": "71fda6b3",
   "metadata": {},
   "outputs": [],
   "source": [
    "plt.semilogy(sol.t, norm_diff_W)\n",
    "plt.title('Distance between W and W prime')\n",
    "plt.xlabel(\"Time\")\n",
    "plt.ylabel(\"Distance\")\n",
    "plt.show()"
   ]
  },
  {
   "cell_type": "code",
   "execution_count": null,
   "id": "dee3efdb",
   "metadata": {},
   "outputs": [],
   "source": []
  }
 ],
 "metadata": {
  "kernelspec": {
   "display_name": "Python 3 (ipykernel)",
   "language": "python",
   "name": "python3"
  },
  "language_info": {
   "codemirror_mode": {
    "name": "ipython",
    "version": 3
   },
   "file_extension": ".py",
   "mimetype": "text/x-python",
   "name": "python",
   "nbconvert_exporter": "python",
   "pygments_lexer": "ipython3",
   "version": "3.10.14"
  }
 },
 "nbformat": 4,
 "nbformat_minor": 5
}
